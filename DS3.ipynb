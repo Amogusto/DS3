{
 "cells": [
  {
   "cell_type": "markdown",
   "id": "49df6345",
   "metadata": {},
   "source": [
    "### Задание 1"
   ]
  },
  {
   "cell_type": "code",
   "execution_count": 1,
   "id": "ca3abb32",
   "metadata": {},
   "outputs": [],
   "source": [
    "import numpy as np\n",
    "import pandas as pd"
   ]
  },
  {
   "cell_type": "code",
   "execution_count": 2,
   "id": "2f7ea327",
   "metadata": {},
   "outputs": [],
   "source": [
    "from sklearn.datasets import load_boston"
   ]
  },
  {
   "cell_type": "code",
   "execution_count": 3,
   "id": "32507612",
   "metadata": {},
   "outputs": [
    {
     "name": "stderr",
     "output_type": "stream",
     "text": [
      "/Users/aroslavkuznecov/opt/anaconda3/lib/python3.9/site-packages/sklearn/utils/deprecation.py:87: FutureWarning: Function load_boston is deprecated; `load_boston` is deprecated in 1.0 and will be removed in 1.2.\n",
      "\n",
      "    The Boston housing prices dataset has an ethical problem. You can refer to\n",
      "    the documentation of this function for further details.\n",
      "\n",
      "    The scikit-learn maintainers therefore strongly discourage the use of this\n",
      "    dataset unless the purpose of the code is to study and educate about\n",
      "    ethical issues in data science and machine learning.\n",
      "\n",
      "    In this special case, you can fetch the dataset from the original\n",
      "    source::\n",
      "\n",
      "        import pandas as pd\n",
      "        import numpy as np\n",
      "\n",
      "\n",
      "        data_url = \"http://lib.stat.cmu.edu/datasets/boston\"\n",
      "        raw_df = pd.read_csv(data_url, sep=\"\\s+\", skiprows=22, header=None)\n",
      "        data = np.hstack([raw_df.values[::2, :], raw_df.values[1::2, :2]])\n",
      "        target = raw_df.values[1::2, 2]\n",
      "\n",
      "    Alternative datasets include the California housing dataset (i.e.\n",
      "    :func:`~sklearn.datasets.fetch_california_housing`) and the Ames housing\n",
      "    dataset. You can load the datasets as follows::\n",
      "\n",
      "        from sklearn.datasets import fetch_california_housing\n",
      "        housing = fetch_california_housing()\n",
      "\n",
      "    for the California housing dataset and::\n",
      "\n",
      "        from sklearn.datasets import fetch_openml\n",
      "        housing = fetch_openml(name=\"house_prices\", as_frame=True)\n",
      "\n",
      "    for the Ames housing dataset.\n",
      "    \n",
      "  warnings.warn(msg, category=FutureWarning)\n"
     ]
    }
   ],
   "source": [
    "boston = load_boston()"
   ]
  },
  {
   "cell_type": "code",
   "execution_count": 4,
   "id": "88380f87",
   "metadata": {},
   "outputs": [],
   "source": [
    "from sklearn.model_selection import train_test_split"
   ]
  },
  {
   "cell_type": "code",
   "execution_count": 5,
   "id": "52c7000b",
   "metadata": {},
   "outputs": [],
   "source": [
    "data = boston[\"data\"]\n",
    "feature_names = boston[\"feature_names\"]\n",
    "target = boston[\"target\"]"
   ]
  },
  {
   "cell_type": "code",
   "execution_count": 6,
   "id": "bbe67e98",
   "metadata": {},
   "outputs": [],
   "source": [
    "X = pd.DataFrame(data, columns=feature_names)\n",
    "y = pd.DataFrame(target, columns=[\"price\"])"
   ]
  },
  {
   "cell_type": "code",
   "execution_count": 7,
   "id": "73eff13b",
   "metadata": {},
   "outputs": [],
   "source": [
    "X_train, X_test, y_train, y_test = train_test_split(X, y, test_size=0.30, random_state=42)"
   ]
  },
  {
   "cell_type": "code",
   "execution_count": 8,
   "id": "a905d5a9",
   "metadata": {},
   "outputs": [],
   "source": [
    "from sklearn.linear_model import LinearRegression\n",
    "lr = LinearRegression()"
   ]
  },
  {
   "cell_type": "code",
   "execution_count": 9,
   "id": "8f3392dd",
   "metadata": {},
   "outputs": [
    {
     "data": {
      "text/plain": [
       "LinearRegression()"
      ]
     },
     "execution_count": 9,
     "metadata": {},
     "output_type": "execute_result"
    }
   ],
   "source": [
    "lr.fit(X_train, y_train)"
   ]
  },
  {
   "cell_type": "code",
   "execution_count": 10,
   "id": "93d17956",
   "metadata": {},
   "outputs": [
    {
     "data": {
      "text/plain": [
       "(152, 1)"
      ]
     },
     "execution_count": 10,
     "metadata": {},
     "output_type": "execute_result"
    }
   ],
   "source": [
    "y_pred = lr.predict(X_test)\n",
    "y_pred.shape"
   ]
  },
  {
   "cell_type": "code",
   "execution_count": 11,
   "id": "45558a86",
   "metadata": {},
   "outputs": [
    {
     "data": {
      "text/plain": [
       "array([[28.64896005],\n",
       "       [36.49501384],\n",
       "       [15.4111932 ],\n",
       "       [25.40321303],\n",
       "       [18.85527988],\n",
       "       [23.14668944],\n",
       "       [17.3921241 ],\n",
       "       [14.07859899],\n",
       "       [23.03692679],\n",
       "       [20.59943345],\n",
       "       [24.82286159],\n",
       "       [18.53057049],\n",
       "       [-6.86543527],\n",
       "       [21.80172334],\n",
       "       [19.22571177],\n",
       "       [26.19191985],\n",
       "       [20.27733882],\n",
       "       [ 5.61596432],\n",
       "       [40.44887974],\n",
       "       [17.57695918],\n",
       "       [27.44319095],\n",
       "       [30.1715964 ],\n",
       "       [10.94055823],\n",
       "       [24.02083139],\n",
       "       [18.07693812],\n",
       "       [15.934748  ],\n",
       "       [23.12614028],\n",
       "       [14.56052142],\n",
       "       [22.33482544],\n",
       "       [19.3257627 ],\n",
       "       [22.16564973],\n",
       "       [25.19476081],\n",
       "       [25.31372473],\n",
       "       [18.51345025],\n",
       "       [16.6223286 ],\n",
       "       [17.50268505],\n",
       "       [30.94992991],\n",
       "       [20.19201752],\n",
       "       [23.90440431],\n",
       "       [24.86975466],\n",
       "       [13.93767876],\n",
       "       [31.82504715],\n",
       "       [42.56978796],\n",
       "       [17.62323805],\n",
       "       [27.01963242],\n",
       "       [17.19006621],\n",
       "       [13.80594006],\n",
       "       [26.10356557],\n",
       "       [20.31516118],\n",
       "       [30.08649576],\n",
       "       [21.3124053 ],\n",
       "       [34.15739602],\n",
       "       [15.60444981],\n",
       "       [26.11247588],\n",
       "       [39.31613646],\n",
       "       [22.99282065],\n",
       "       [18.95764781],\n",
       "       [33.05555669],\n",
       "       [24.85114223],\n",
       "       [12.91729352],\n",
       "       [22.68101452],\n",
       "       [30.80336295],\n",
       "       [31.63522027],\n",
       "       [16.29833689],\n",
       "       [21.07379993],\n",
       "       [16.57699669],\n",
       "       [20.36362023],\n",
       "       [26.15615896],\n",
       "       [31.06833034],\n",
       "       [11.98679953],\n",
       "       [20.42550472],\n",
       "       [27.55676301],\n",
       "       [10.94316981],\n",
       "       [16.82660609],\n",
       "       [23.92909733],\n",
       "       [ 5.28065815],\n",
       "       [21.43504661],\n",
       "       [41.33684993],\n",
       "       [18.22211675],\n",
       "       [ 9.48269245],\n",
       "       [21.19857446],\n",
       "       [12.95001331],\n",
       "       [21.64822797],\n",
       "       [ 9.3845568 ],\n",
       "       [23.06060014],\n",
       "       [31.95762512],\n",
       "       [19.16662892],\n",
       "       [25.59942257],\n",
       "       [29.35043558],\n",
       "       [20.13138581],\n",
       "       [25.57297369],\n",
       "       [ 5.42970803],\n",
       "       [20.23169356],\n",
       "       [15.1949595 ],\n",
       "       [14.03241742],\n",
       "       [20.91078077],\n",
       "       [24.82249135],\n",
       "       [-0.47712079],\n",
       "       [13.70520524],\n",
       "       [15.69525576],\n",
       "       [22.06972676],\n",
       "       [24.64152943],\n",
       "       [10.7382866 ],\n",
       "       [19.68622564],\n",
       "       [23.63678009],\n",
       "       [12.07974981],\n",
       "       [18.47894211],\n",
       "       [25.52713393],\n",
       "       [20.93461307],\n",
       "       [24.6955941 ],\n",
       "       [ 7.59054562],\n",
       "       [19.01046053],\n",
       "       [21.9444339 ],\n",
       "       [27.22319977],\n",
       "       [32.18608828],\n",
       "       [15.27826455],\n",
       "       [34.39190421],\n",
       "       [12.96314168],\n",
       "       [21.01681316],\n",
       "       [28.57880911],\n",
       "       [15.86300844],\n",
       "       [24.85124135],\n",
       "       [ 3.37937111],\n",
       "       [23.90465773],\n",
       "       [25.81792146],\n",
       "       [23.11020547],\n",
       "       [25.33489201],\n",
       "       [33.35545176],\n",
       "       [20.60724498],\n",
       "       [38.4772665 ],\n",
       "       [13.97398533],\n",
       "       [25.21923987],\n",
       "       [17.80946626],\n",
       "       [20.63437371],\n",
       "       [ 9.80267398],\n",
       "       [21.07953576],\n",
       "       [22.3378417 ],\n",
       "       [32.32381854],\n",
       "       [31.48694863],\n",
       "       [15.46621287],\n",
       "       [16.86242766],\n",
       "       [28.99330526],\n",
       "       [24.95467894],\n",
       "       [16.73633557],\n",
       "       [ 6.12858395],\n",
       "       [26.65990044],\n",
       "       [23.34007187],\n",
       "       [17.40367164],\n",
       "       [13.38594123],\n",
       "       [39.98342478],\n",
       "       [16.68286302],\n",
       "       [18.28561759]])"
      ]
     },
     "execution_count": 11,
     "metadata": {},
     "output_type": "execute_result"
    }
   ],
   "source": [
    "y_pred"
   ]
  },
  {
   "cell_type": "code",
   "execution_count": 12,
   "id": "0f38d8d7",
   "metadata": {},
   "outputs": [
    {
     "data": {
      "text/html": [
       "<div>\n",
       "<style scoped>\n",
       "    .dataframe tbody tr th:only-of-type {\n",
       "        vertical-align: middle;\n",
       "    }\n",
       "\n",
       "    .dataframe tbody tr th {\n",
       "        vertical-align: top;\n",
       "    }\n",
       "\n",
       "    .dataframe thead th {\n",
       "        text-align: right;\n",
       "    }\n",
       "</style>\n",
       "<table border=\"1\" class=\"dataframe\">\n",
       "  <thead>\n",
       "    <tr style=\"text-align: right;\">\n",
       "      <th></th>\n",
       "      <th>y_test</th>\n",
       "      <th>y_pred</th>\n",
       "    </tr>\n",
       "  </thead>\n",
       "  <tbody>\n",
       "    <tr>\n",
       "      <th>173</th>\n",
       "      <td>23.6</td>\n",
       "      <td>28.648960</td>\n",
       "    </tr>\n",
       "    <tr>\n",
       "      <th>274</th>\n",
       "      <td>32.4</td>\n",
       "      <td>36.495014</td>\n",
       "    </tr>\n",
       "    <tr>\n",
       "      <th>491</th>\n",
       "      <td>13.6</td>\n",
       "      <td>15.411193</td>\n",
       "    </tr>\n",
       "    <tr>\n",
       "      <th>72</th>\n",
       "      <td>22.8</td>\n",
       "      <td>25.403213</td>\n",
       "    </tr>\n",
       "    <tr>\n",
       "      <th>452</th>\n",
       "      <td>16.1</td>\n",
       "      <td>18.855280</td>\n",
       "    </tr>\n",
       "    <tr>\n",
       "      <th>76</th>\n",
       "      <td>20.0</td>\n",
       "      <td>23.146689</td>\n",
       "    </tr>\n",
       "    <tr>\n",
       "      <th>316</th>\n",
       "      <td>17.8</td>\n",
       "      <td>17.392124</td>\n",
       "    </tr>\n",
       "    <tr>\n",
       "      <th>140</th>\n",
       "      <td>14.0</td>\n",
       "      <td>14.078599</td>\n",
       "    </tr>\n",
       "    <tr>\n",
       "      <th>471</th>\n",
       "      <td>19.6</td>\n",
       "      <td>23.036927</td>\n",
       "    </tr>\n",
       "    <tr>\n",
       "      <th>500</th>\n",
       "      <td>16.8</td>\n",
       "      <td>20.599433</td>\n",
       "    </tr>\n",
       "  </tbody>\n",
       "</table>\n",
       "</div>"
      ],
      "text/plain": [
       "     y_test     y_pred\n",
       "173    23.6  28.648960\n",
       "274    32.4  36.495014\n",
       "491    13.6  15.411193\n",
       "72     22.8  25.403213\n",
       "452    16.1  18.855280\n",
       "76     20.0  23.146689\n",
       "316    17.8  17.392124\n",
       "140    14.0  14.078599\n",
       "471    19.6  23.036927\n",
       "500    16.8  20.599433"
      ]
     },
     "execution_count": 12,
     "metadata": {},
     "output_type": "execute_result"
    }
   ],
   "source": [
    "check_test = pd.DataFrame({\n",
    "    \"y_test\": y_test[\"price\"],\n",
    "    \"y_pred\": y_pred.flatten(),\n",
    "})\n",
    "\n",
    "check_test.head(10)"
   ]
  },
  {
   "cell_type": "markdown",
   "id": "e94c8262",
   "metadata": {},
   "source": [
    "### Задание 2"
   ]
  },
  {
   "cell_type": "code",
   "execution_count": 13,
   "id": "14294960",
   "metadata": {},
   "outputs": [],
   "source": [
    "from sklearn.ensemble import RandomForestRegressor"
   ]
  },
  {
   "cell_type": "code",
   "execution_count": 14,
   "id": "28e17d7a",
   "metadata": {},
   "outputs": [],
   "source": [
    "clf = RandomForestRegressor(n_estimators=1000, max_depth=12, random_state=42)"
   ]
  },
  {
   "cell_type": "code",
   "execution_count": 16,
   "id": "6dc82262",
   "metadata": {},
   "outputs": [],
   "source": [
    "data = boston[\"data\"]\n",
    "feature_names = boston[\"feature_names\"]\n",
    "target = boston[\"target\"]\n",
    "X = pd.DataFrame(data, columns=feature_names)\n",
    "y = pd.DataFrame(target, columns=[\"price\"])\n",
    "X_train, X_test, Y_train, Y_test = train_test_split(X, y, test_size=0.30, random_state=42)"
   ]
  },
  {
   "cell_type": "code",
   "execution_count": 17,
   "id": "4474ba5c",
   "metadata": {},
   "outputs": [
    {
     "data": {
      "text/plain": [
       "RandomForestRegressor(max_depth=12, n_estimators=1000, random_state=42)"
      ]
     },
     "execution_count": 17,
     "metadata": {},
     "output_type": "execute_result"
    }
   ],
   "source": [
    "clf.fit(X_train, Y_train.values[:, 0])"
   ]
  },
  {
   "cell_type": "code",
   "execution_count": 19,
   "id": "f001b071",
   "metadata": {},
   "outputs": [
    {
     "data": {
      "text/html": [
       "<div>\n",
       "<style scoped>\n",
       "    .dataframe tbody tr th:only-of-type {\n",
       "        vertical-align: middle;\n",
       "    }\n",
       "\n",
       "    .dataframe tbody tr th {\n",
       "        vertical-align: top;\n",
       "    }\n",
       "\n",
       "    .dataframe thead th {\n",
       "        text-align: right;\n",
       "    }\n",
       "</style>\n",
       "<table border=\"1\" class=\"dataframe\">\n",
       "  <thead>\n",
       "    <tr style=\"text-align: right;\">\n",
       "      <th></th>\n",
       "      <th>Y_test</th>\n",
       "      <th>Y_pred_clf</th>\n",
       "    </tr>\n",
       "  </thead>\n",
       "  <tbody>\n",
       "    <tr>\n",
       "      <th>173</th>\n",
       "      <td>23.6</td>\n",
       "      <td>22.806412</td>\n",
       "    </tr>\n",
       "    <tr>\n",
       "      <th>274</th>\n",
       "      <td>32.4</td>\n",
       "      <td>31.131464</td>\n",
       "    </tr>\n",
       "    <tr>\n",
       "      <th>491</th>\n",
       "      <td>13.6</td>\n",
       "      <td>16.339125</td>\n",
       "    </tr>\n",
       "    <tr>\n",
       "      <th>72</th>\n",
       "      <td>22.8</td>\n",
       "      <td>23.810726</td>\n",
       "    </tr>\n",
       "    <tr>\n",
       "      <th>452</th>\n",
       "      <td>16.1</td>\n",
       "      <td>17.139521</td>\n",
       "    </tr>\n",
       "  </tbody>\n",
       "</table>\n",
       "</div>"
      ],
      "text/plain": [
       "     Y_test  Y_pred_clf\n",
       "173    23.6   22.806412\n",
       "274    32.4   31.131464\n",
       "491    13.6   16.339125\n",
       "72     22.8   23.810726\n",
       "452    16.1   17.139521"
      ]
     },
     "execution_count": 19,
     "metadata": {},
     "output_type": "execute_result"
    }
   ],
   "source": [
    "y_pred_clf = clf.predict(X_test)\n",
    "check_test_clf = pd.DataFrame({\n",
    "    \"Y_test\": Y_test[\"price\"], \n",
    "    \"Y_pred_clf\": y_pred_clf.flatten()})\n",
    "\n",
    "check_test_clf.head()"
   ]
  },
  {
   "cell_type": "code",
   "execution_count": 22,
   "id": "6128095b",
   "metadata": {},
   "outputs": [
    {
     "name": "stdout",
     "output_type": "stream",
     "text": [
      "9.334548946165196\n"
     ]
    }
   ],
   "source": [
    "from sklearn.metrics import mean_squared_error\n",
    "mean_squared_error_clf = mean_squared_error(check_test_clf[\"Y_pred_clf\"], check_test_clf[\"Y_test\"])\n",
    "print(mean_squared_error_clf)"
   ]
  },
  {
   "cell_type": "markdown",
   "id": "1e0b2e9f",
   "metadata": {},
   "source": [
    "### Задание 3"
   ]
  },
  {
   "cell_type": "code",
   "execution_count": 24,
   "id": "e8a1825a",
   "metadata": {},
   "outputs": [
    {
     "name": "stdout",
     "output_type": "stream",
     "text": [
      "[0.03167574 0.00154252 0.00713813 0.00123624 0.01426897 0.40268179\n",
      " 0.01429864 0.06397257 0.00528122 0.01152493 0.01808108 0.01245085\n",
      " 0.41584732]\n"
     ]
    }
   ],
   "source": [
    "print(clf.feature_importances_)"
   ]
  },
  {
   "cell_type": "code",
   "execution_count": 25,
   "id": "0b1a50bd",
   "metadata": {},
   "outputs": [
    {
     "data": {
      "text/html": [
       "<div>\n",
       "<style scoped>\n",
       "    .dataframe tbody tr th:only-of-type {\n",
       "        vertical-align: middle;\n",
       "    }\n",
       "\n",
       "    .dataframe tbody tr th {\n",
       "        vertical-align: top;\n",
       "    }\n",
       "\n",
       "    .dataframe thead th {\n",
       "        text-align: right;\n",
       "    }\n",
       "</style>\n",
       "<table border=\"1\" class=\"dataframe\">\n",
       "  <thead>\n",
       "    <tr style=\"text-align: right;\">\n",
       "      <th></th>\n",
       "      <th>feature_importance</th>\n",
       "      <th>name</th>\n",
       "    </tr>\n",
       "  </thead>\n",
       "  <tbody>\n",
       "    <tr>\n",
       "      <th>0</th>\n",
       "      <td>0.031676</td>\n",
       "      <td>CRIM</td>\n",
       "    </tr>\n",
       "    <tr>\n",
       "      <th>1</th>\n",
       "      <td>0.001543</td>\n",
       "      <td>ZN</td>\n",
       "    </tr>\n",
       "    <tr>\n",
       "      <th>2</th>\n",
       "      <td>0.007138</td>\n",
       "      <td>INDUS</td>\n",
       "    </tr>\n",
       "    <tr>\n",
       "      <th>3</th>\n",
       "      <td>0.001236</td>\n",
       "      <td>CHAS</td>\n",
       "    </tr>\n",
       "    <tr>\n",
       "      <th>4</th>\n",
       "      <td>0.014269</td>\n",
       "      <td>NOX</td>\n",
       "    </tr>\n",
       "    <tr>\n",
       "      <th>5</th>\n",
       "      <td>0.402682</td>\n",
       "      <td>RM</td>\n",
       "    </tr>\n",
       "    <tr>\n",
       "      <th>6</th>\n",
       "      <td>0.014299</td>\n",
       "      <td>AGE</td>\n",
       "    </tr>\n",
       "    <tr>\n",
       "      <th>7</th>\n",
       "      <td>0.063973</td>\n",
       "      <td>DIS</td>\n",
       "    </tr>\n",
       "    <tr>\n",
       "      <th>8</th>\n",
       "      <td>0.005281</td>\n",
       "      <td>RAD</td>\n",
       "    </tr>\n",
       "    <tr>\n",
       "      <th>9</th>\n",
       "      <td>0.011525</td>\n",
       "      <td>TAX</td>\n",
       "    </tr>\n",
       "    <tr>\n",
       "      <th>10</th>\n",
       "      <td>0.018081</td>\n",
       "      <td>PTRATIO</td>\n",
       "    </tr>\n",
       "    <tr>\n",
       "      <th>11</th>\n",
       "      <td>0.012451</td>\n",
       "      <td>B</td>\n",
       "    </tr>\n",
       "    <tr>\n",
       "      <th>12</th>\n",
       "      <td>0.415847</td>\n",
       "      <td>LSTAT</td>\n",
       "    </tr>\n",
       "  </tbody>\n",
       "</table>\n",
       "</div>"
      ],
      "text/plain": [
       "    feature_importance     name\n",
       "0             0.031676     CRIM\n",
       "1             0.001543       ZN\n",
       "2             0.007138    INDUS\n",
       "3             0.001236     CHAS\n",
       "4             0.014269      NOX\n",
       "5             0.402682       RM\n",
       "6             0.014299      AGE\n",
       "7             0.063973      DIS\n",
       "8             0.005281      RAD\n",
       "9             0.011525      TAX\n",
       "10            0.018081  PTRATIO\n",
       "11            0.012451        B\n",
       "12            0.415847    LSTAT"
      ]
     },
     "execution_count": 25,
     "metadata": {},
     "output_type": "execute_result"
    }
   ],
   "source": [
    "feature_importance = pd.DataFrame({'name':X.columns, \n",
    "                                   'feature_importance':clf.feature_importances_}, \n",
    "                                  columns=['feature_importance', 'name'])\n",
    "feature_importance"
   ]
  },
  {
   "cell_type": "code",
   "execution_count": 27,
   "id": "3b41f75d",
   "metadata": {},
   "outputs": [
    {
     "data": {
      "text/html": [
       "<div>\n",
       "<style scoped>\n",
       "    .dataframe tbody tr th:only-of-type {\n",
       "        vertical-align: middle;\n",
       "    }\n",
       "\n",
       "    .dataframe tbody tr th {\n",
       "        vertical-align: top;\n",
       "    }\n",
       "\n",
       "    .dataframe thead th {\n",
       "        text-align: right;\n",
       "    }\n",
       "</style>\n",
       "<table border=\"1\" class=\"dataframe\">\n",
       "  <thead>\n",
       "    <tr style=\"text-align: right;\">\n",
       "      <th></th>\n",
       "      <th>feature_importance</th>\n",
       "      <th>name</th>\n",
       "    </tr>\n",
       "  </thead>\n",
       "  <tbody>\n",
       "    <tr>\n",
       "      <th>12</th>\n",
       "      <td>0.415847</td>\n",
       "      <td>LSTAT</td>\n",
       "    </tr>\n",
       "    <tr>\n",
       "      <th>5</th>\n",
       "      <td>0.402682</td>\n",
       "      <td>RM</td>\n",
       "    </tr>\n",
       "  </tbody>\n",
       "</table>\n",
       "</div>"
      ],
      "text/plain": [
       "    feature_importance   name\n",
       "12            0.415847  LSTAT\n",
       "5             0.402682     RM"
      ]
     },
     "execution_count": 27,
     "metadata": {},
     "output_type": "execute_result"
    }
   ],
   "source": [
    "feature_importance.nlargest(2, 'feature_importance')"
   ]
  },
  {
   "cell_type": "code",
   "execution_count": null,
   "id": "4c305b10",
   "metadata": {},
   "outputs": [],
   "source": []
  },
  {
   "cell_type": "code",
   "execution_count": null,
   "id": "26389264",
   "metadata": {},
   "outputs": [],
   "source": []
  }
 ],
 "metadata": {
  "kernelspec": {
   "display_name": "Python 3 (ipykernel)",
   "language": "python",
   "name": "python3"
  },
  "language_info": {
   "codemirror_mode": {
    "name": "ipython",
    "version": 3
   },
   "file_extension": ".py",
   "mimetype": "text/x-python",
   "name": "python",
   "nbconvert_exporter": "python",
   "pygments_lexer": "ipython3",
   "version": "3.9.12"
  }
 },
 "nbformat": 4,
 "nbformat_minor": 5
}
